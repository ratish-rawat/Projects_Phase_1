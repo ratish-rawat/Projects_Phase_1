{
 "cells": [
  {
   "cell_type": "code",
   "execution_count": 1,
   "id": "76dc5fff",
   "metadata": {},
   "outputs": [
    {
     "name": "stdout",
     "output_type": "stream",
     "text": [
      "<class 'pandas.core.frame.DataFrame'>\n",
      "RangeIndex: 2772 entries, 0 to 2771\n",
      "Data columns (total 7 columns):\n",
      " #   Column    Non-Null Count  Dtype  \n",
      "---  ------    --------------  -----  \n",
      " 0   age       2772 non-null   int64  \n",
      " 1   sex       2772 non-null   object \n",
      " 2   bmi       2772 non-null   float64\n",
      " 3   children  2772 non-null   int64  \n",
      " 4   smoker    2772 non-null   object \n",
      " 5   region    2772 non-null   object \n",
      " 6   charges   2772 non-null   float64\n",
      "dtypes: float64(2), int64(2), object(3)\n",
      "memory usage: 151.7+ KB\n",
      "None\n"
     ]
    }
   ],
   "source": [
    "import pandas as pd\n",
    "import numpy as np\n",
    "import sklearn \n",
    "import matplotlib.pyplot as plt\n",
    "import seaborn as sns\n",
    "from sklearn.model_selection import train_test_split\n",
    "from sklearn.linear_model import LinearRegression\n",
    "from sklearn.metrics import mean_absolute_error, mean_squared_error, r2_score\n",
    "\n",
    "\n",
    "df=pd.read_csv(\"Medical_insurance.csv\",header=0)\n",
    "null_data=df.isnull()\n",
    "print(df.info())\n",
    "# for col in null_data.columns.values.tolist():\n",
    "#     print(col)\n",
    "#     print(null_data[col].value_counts())\n",
    "#     print(\"\")   ---> No null values were reported. \n",
    "headers = [\"age\", \"gender\", \"bmi\", \"no_of_children\", \"smoker\", \"region\", \"charges\"]\n",
    "df.columns = headers"
   ]
  },
  {
   "cell_type": "code",
   "execution_count": null,
   "id": "2c8778c9",
   "metadata": {},
   "outputs": [],
   "source": [
    "df['charges']=df['charges'].round(2)\n",
    "\n",
    "#The Regression Plot for 'charges' vs 'bmi' \n",
    "sns.regplot(x=\"bmi\",y=\"charges\",data=df\n",
    "            ,scatter_kws={\"color\":\"blue\"},\n",
    "            line_kws={\"color\":\"red\"}\n",
    "            )\n",
    "plt.show()\n",
    "\n",
    "sns.boxplot(x=\"smoker\",y=\"charges\",data=df\n",
    "            ,palette=['lightcoral','yellow']\n",
    "            )\n",
    "# plt.show()"
   ]
  },
  {
   "cell_type": "code",
   "execution_count": null,
   "id": "81b6f8bf",
   "metadata": {},
   "outputs": [
    {
     "data": {
      "text/plain": [
       "0.7495562332216061"
      ]
     },
     "execution_count": 20,
     "metadata": {},
     "output_type": "execute_result"
    }
   ],
   "source": [
    "#Linear Regression Model for predicting charges from attribute smoker \n",
    "from sklearn.linear_model import LinearRegression\n",
    "from sklearn.metrics import mean_absolute_error, mean_squared_error, r2_score\n",
    "md=LinearRegression()\n",
    "\n",
    "df['smoker_num']=df['smoker'].map({'yes':1,'no':0})\n",
    "df['gender_num'] = df['gender'].map({'male': 1, 'female': 0})\n",
    "\n",
    "X=df['smoker_num'].values.reshape(-1,1)\n",
    "Y=df['charges']\n",
    "md.fit(X,Y) \n",
    "Y_pred=md.predict(X)\n",
    "r2=r2_score(Y,Y_pred)\n",
    "r2\n",
    "#Here, we got r^2=0.6221791733924185 for charges prediction based on smoker status. Since, R^2 is not very high, it indicates that smoker status alone is not a strong predictor of charges.\n",
    "\n",
    "Z=df[['bmi','smoker_num','gender_num','no_of_children','age']].values.reshape(-1,5)\n",
    "Y=df['charges']\n",
    "Y_pred=md.fit(Z,Y).predict(Z)\n",
    "r2=r2_score(Y,Y_pred)\n",
    "# r2= 0.7495562332216061 when charge fitted with 'bmi','smoker_num','gender_num','no_of_children' and'age"
   ]
  },
  {
   "cell_type": "code",
   "execution_count": null,
   "id": "5a126e32",
   "metadata": {},
   "outputs": [
    {
     "data": {
      "text/plain": [
       "0.7387653107604899"
      ]
     },
     "execution_count": 19,
     "metadata": {},
     "output_type": "execute_result"
    }
   ],
   "source": [
    "#Model Refinement \n",
    "#Splitting the data into testing and training sets\n",
    "from sklearn.model_selection import train_test_split\n",
    "from sklearn.linear_model import Ridge\n",
    "from sklearn.preprocessing import PolynomialFeatures\n",
    "\n",
    "Z=df[['bmi','smoker_num','gender_num','no_of_children','age']].values.reshape(-1,5)\n",
    "Y=df['charges']\n",
    "X_train,X_test,Y_train,Y_test=train_test_split(Z,Y,test_size=0.2,random_state=42)\n",
    "ridge_model=Ridge(alpha=0.1)\n",
    "ridge_model.fit(X_train,Y_train)\n",
    "Y_pred=ridge_model.predict(X_test)\n",
    "r2=r2_score(Y_test,Y_pred)\n",
    "r2                   #returns 0.7387653107604899 when applied ridge_regression"
   ]
  },
  {
   "cell_type": "code",
   "execution_count": null,
   "id": "b9b82855",
   "metadata": {},
   "outputs": [],
   "source": []
  }
 ],
 "metadata": {
  "kernelspec": {
   "display_name": "Python 3",
   "language": "python",
   "name": "python3"
  },
  "language_info": {
   "codemirror_mode": {
    "name": "ipython",
    "version": 3
   },
   "file_extension": ".py",
   "mimetype": "text/x-python",
   "name": "python",
   "nbconvert_exporter": "python",
   "pygments_lexer": "ipython3",
   "version": "3.13.1"
  }
 },
 "nbformat": 4,
 "nbformat_minor": 5
}
